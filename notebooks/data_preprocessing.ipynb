!pip install transformers datasets scikit-learn accelerate -U

!pip install transformers==4.28.1 datasets==2.10.0 scikit-learn==1.2.2 accelerate==0.21.0 requests==2.31.0

import pandas as pd
import re

# Load the dataset
file_path = 'quikr_car.csv'  # Use the uploaded file name
df = pd.read_csv(file_path)

# Function to preprocess price and categorize sentiment
def categorize_price(price):
    if price == "Ask For Price":
        return "neutral"
    price = int(re.sub(r'[^\d]', '', price))  # Remove non-numeric characters and convert to integer
    if price < 200000:
        return "cheap"
    elif price <= 500000:
        return "affordable"
    else:
        return "expensive"

# Create a new column for sentiment
df['sentiment'] = df['Price'].apply(categorize_price)

# Combine relevant columns to create a text description
df['text'] = df.apply(lambda row: f"{row['name']} by {row['company']} from year {row['year']} with {row['kms_driven']} driven, using {row['fuel_type']} fuel.", axis=1)

# Map sentiment labels to integers
label_map = {'cheap': 0, 'affordable': 1, 'expensive': 2, 'neutral': 3}
df['label'] = df['sentiment'].map(label_map)

# Select relevant columns for training
df = df[['text', 'label']]

# Split the data into training and test sets
from sklearn.model_selection import train_test_split
train_df, test_df = train_test_split(df, test_size=0.2, random_state=42)
