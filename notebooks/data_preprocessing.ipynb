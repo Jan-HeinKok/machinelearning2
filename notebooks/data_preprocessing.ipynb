{
  "cells": [
    {
      "cell_type": "markdown",
      "metadata": {
        "id": "view-in-github",
        "colab_type": "text"
      },
      "source": [
        "<a href=\"https://colab.research.google.com/github/Jan-HeinKok/machinelearning2/blob/main/data_preprocessing.ipynb\" target=\"_parent\"><img src=\"https://colab.research.google.com/assets/colab-badge.svg\" alt=\"Open In Colab\"/></a>"
      ]
    },
    {
      "cell_type": "code",
      "source": [
        "!pip install transformers datasets scikit-learn accelerate -U"
      ],
      "metadata": {
        "id": "YysPUaV39NVc"
      },
      "execution_count": null,
      "outputs": []
    },
    {
      "cell_type": "code",
      "source": [
        "!pip install transformers==4.28.1 datasets==2.10.0 scikit-learn==1.2.2 accelerate==0.21.0 requests==2.31.0"
      ],
      "metadata": {
        "id": "Etv-M_6h9OsU"
      },
      "execution_count": null,
      "outputs": []
    },
    {
      "cell_type": "code",
      "source": [
        "from google.colab import files\n",
        "uploaded = files.upload()"
      ],
      "metadata": {
        "id": "PB7CY-_H9UVv"
      },
      "execution_count": null,
      "outputs": []
    },
    {
      "cell_type": "code",
      "source": [
        "import pandas as pd\n",
        "import re\n",
        "\n",
        "# Load the dataset\n",
        "file_path = 'quikr_car.csv'  # Use the uploaded file name\n",
        "df = pd.read_csv(file_path)\n",
        "\n",
        "# Function to preprocess price and categorize sentiment\n",
        "def categorize_price(price):\n",
        "    if price == \"Ask For Price\":\n",
        "        return \"neutral\"\n",
        "    price = int(re.sub(r'[^\\d]', '', price))  # Remove non-numeric characters and convert to integer\n",
        "    if price < 200000:\n",
        "        return \"cheap\"\n",
        "    elif price <= 500000:\n",
        "        return \"affordable\"\n",
        "    else:\n",
        "        return \"expensive\"\n",
        "\n",
        "# Create a new column for sentiment\n",
        "df['sentiment'] = df['Price'].apply(categorize_price)\n",
        "\n",
        "# Combine relevant columns to create a text description\n",
        "df['text'] = df.apply(lambda row: f\"{row['name']} by {row['company']} from year {row['year']} with {row['kms_driven']} driven, using {row['fuel_type']} fuel.\", axis=1)\n",
        "\n",
        "# Map sentiment labels to integers\n",
        "label_map = {'cheap': 0, 'affordable': 1, 'expensive': 2, 'neutral': 3}\n",
        "df['label'] = df['sentiment'].map(label_map)\n",
        "\n",
        "# Select relevant columns for training\n",
        "df = df[['text', 'label']]\n",
        "\n",
        "# Split the data into training and test sets\n",
        "from sklearn.model_selection import train_test_split\n",
        "train_df, test_df = train_test_split(df, test_size=0.2, random_state=42)\n"
      ],
      "metadata": {
        "id": "WIvlLziv_zr9"
      },
      "execution_count": null,
      "outputs": []
    }
  ],
  "metadata": {
    "accelerator": "GPU",
    "colab": {
      "gpuType": "T4",
      "provenance": [],
      "authorship_tag": "ABX9TyPX+xrSagM9YQ7RHs8O8CGM",
      "include_colab_link": true
    },
    "kernelspec": {
      "display_name": "Python 3",
      "name": "python3"
    },
    "language_info": {
      "name": "python"
    }
  },
  "nbformat": 4,
  "nbformat_minor": 0
}
