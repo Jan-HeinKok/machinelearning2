{
  "nbformat": 4,
  "nbformat_minor": 0,
  "metadata": {
    "colab": {
      "provenance": [],
      "authorship_tag": "ABX9TyOkuMKErDIBGJmn5OEF0dNn",
      "include_colab_link": true
    },
    "kernelspec": {
      "name": "python3",
      "display_name": "Python 3"
    },
    "language_info": {
      "name": "python"
    }
  },
  "cells": [
    {
      "cell_type": "markdown",
      "metadata": {
        "id": "view-in-github",
        "colab_type": "text"
      },
      "source": [
        "<a href=\"https://colab.research.google.com/github/Jan-HeinKok/machinelearning2/blob/main/printpricecategory.ipynb\" target=\"_parent\"><img src=\"https://colab.research.google.com/assets/colab-badge.svg\" alt=\"Open In Colab\"/></a>"
      ]
    },
    {
      "cell_type": "code",
      "source": [
        "import pandas as pd\n",
        "\n",
        "def preprocess_data(file_path):\n",
        "    df = pd.read_csv(file_path)\n",
        "\n",
        "    # Rename columns\n",
        "    column_mapping = {\n",
        "        'name': 'name',\n",
        "        'company': 'company',\n",
        "        'year': 'year',\n",
        "        'kms_driven': 'kms_driven',\n",
        "        'fuel_type': 'fuel_type',\n",
        "        'Price': 'price'\n",
        "    }\n",
        "    df = df.rename(columns=column_mapping)\n",
        "\n",
        "    # Select relevant columns and drop missing values\n",
        "    df = df[['name', 'company', 'year', 'kms_driven', 'fuel_type', 'price']]\n",
        "    df = df.dropna()\n",
        "\n",
        "    # Handle 'Ask For Price' values and convert price to numerical values\n",
        "    df = df[df['price'] != 'Ask For Price']\n",
        "    df['price'] = df['price'].str.replace(',', '').astype(float)\n",
        "\n",
        "    # Bin the prices into categories\n",
        "    bins = [0, 300000, 600000, float('inf')]\n",
        "    labels = ['cheap', 'affordable', 'expensive']\n",
        "    df['label'] = pd.cut(df['price'], bins=bins, labels=labels, right=False)\n",
        "\n",
        "    # Drop rows with NaN in 'label' column\n",
        "    df = df.dropna(subset=['label'])\n",
        "\n",
        "    return df\n",
        "\n",
        "def categorize_cars(df):\n",
        "    cheap_cars = df[df['label'] == 'cheap']\n",
        "    affordable_cars = df[df['label'] == 'affordable']\n",
        "    expensive_cars = df[df['label'] == 'expensive']\n",
        "\n",
        "    return cheap_cars, affordable_cars, expensive_cars\n",
        "\n",
        "if __name__ == \"__main__\":\n",
        "    df = preprocess_data('dataset/quikr_car.csv')\n",
        "    cheap_cars, affordable_cars, expensive_cars = categorize_cars(df)\n",
        "\n",
        "    print(\"Cheap Cars:\")\n",
        "    print(cheap_cars[['name', 'price']])\n",
        "    print(\"\\nAffordable Cars:\")\n",
        "    print(affordable_cars[['name', 'price']])\n",
        "    print(\"\\nExpensive Cars:\")\n",
        "    print(expensive_cars[['name', 'price']])\n"
      ],
      "metadata": {
        "id": "er5RN2CCedkt"
      },
      "execution_count": null,
      "outputs": []
    }
  ]
}
